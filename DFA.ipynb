{
 "cells": [
  {
   "cell_type": "markdown",
   "metadata": {},
   "source": [
    "DFA for even numbe of a's in string"
   ]
  },
  {
   "cell_type": "code",
   "execution_count": 3,
   "metadata": {},
   "outputs": [
    {
     "name": "stdin",
     "output_type": "stream",
     "text": [
      "Enter String  aaa\n"
     ]
    },
    {
     "name": "stdout",
     "output_type": "stream",
     "text": [
      "try again\n"
     ]
    }
   ],
   "source": [
    "dfa=dict()\n",
    "dfa[(0,'a')]=1\n",
    "dfa[(0,'b')]=3\n",
    "dfa[(1,'a')]=0\n",
    "dfa[(1,'b')]=2\n",
    "dfa[(2,'a')]=3\n",
    "dfa[(2,'b')]=2\n",
    "dfa[(3,'a')]=2\n",
    "dfa[(3,'b')]=0\n",
    "cs=0\n",
    "fs=0\n",
    "string=input(\"Enter String \")\n",
    "for i in range(len(string)):\n",
    "    s=string[i]\n",
    "    cs=dfa[(cs,s)]\n",
    "if cs==fs:\n",
    "    print(\"String is Acceptable\")\n",
    "else:\n",
    "    print(\"try again\")"
   ]
  },
  {
   "cell_type": "markdown",
   "metadata": {},
   "source": []
  },
  {
   "cell_type": "code",
   "execution_count": 4,
   "metadata": {},
   "outputs": [
    {
     "name": "stdin",
     "output_type": "stream",
     "text": [
      "Enter String aaa\n"
     ]
    },
    {
     "name": "stdout",
     "output_type": "stream",
     "text": [
      "try again\n"
     ]
    }
   ],
   "source": [
    "dfa={0:{'a':1,'b':3},1:{'a':0,'b':2},2:{'a':3,'b':1},3:{'a':2,'b':0}}\n",
    "cs=0\n",
    "fs=0\n",
    "string=input(\"Enter String\")\n",
    "for i in range(len(string)):\n",
    "    s=string[i]\n",
    "    cs=dfa[cs][s]\n",
    "if cs==fs:\n",
    "    print(\"acceptable\")\n",
    "else:\n",
    "    print(\"try again\")"
   ]
  },
  {
   "cell_type": "code",
   "execution_count": null,
   "metadata": {},
   "outputs": [],
   "source": []
  }
 ],
 "metadata": {
  "kernelspec": {
   "display_name": "Python 3",
   "language": "python",
   "name": "python3"
  },
  "language_info": {
   "codemirror_mode": {
    "name": "ipython",
    "version": 3
   },
   "file_extension": ".py",
   "mimetype": "text/x-python",
   "name": "python",
   "nbconvert_exporter": "python",
   "pygments_lexer": "ipython3",
   "version": "3.7.3"
  }
 },
 "nbformat": 4,
 "nbformat_minor": 4
}
