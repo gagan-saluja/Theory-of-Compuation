{
 "cells": [
  {
   "cell_type": "markdown",
   "metadata": {},
   "source": [
    "Checking Mobile Number with RE"
   ]
  },
  {
   "cell_type": "code",
   "execution_count": 2,
   "metadata": {},
   "outputs": [
    {
     "name": "stdin",
     "output_type": "stream",
     "text": [
      "enter number  9876543210\n"
     ]
    },
    {
     "name": "stdout",
     "output_type": "stream",
     "text": [
      "VAlid Number\n"
     ]
    }
   ],
   "source": [
    "import re\n",
    "txt = input(\"enter number \")\n",
    "x = re.search(\"^\\+91[0-9]{10}$|^[0-9]{10}$\", txt)\n",
    "if (x):\n",
    "  print(\"VAlid Number\")\n",
    "else:\n",
    "  print(\"Not Valid\")"
   ]
  },
  {
   "cell_type": "markdown",
   "metadata": {},
   "source": [
    "Checking email address by RE"
   ]
  },
  {
   "cell_type": "code",
   "execution_count": null,
   "metadata": {},
   "outputs": [],
   "source": [
    "import re\n",
    "txt = input(\"enter email \")\n",
    "x = re.search(\".+@.+\\.com|\\.in|\\.co.in\", txt)\n",
    "if (x):\n",
    "  print(\"Valid Mail\")\n",
    "else:\n",
    "  print(\"Invalid\")"
   ]
  },
  {
   "cell_type": "code",
   "execution_count": null,
   "metadata": {},
   "outputs": [],
   "source": []
  }
 ],
 "metadata": {
  "kernelspec": {
   "display_name": "Python 3",
   "language": "python",
   "name": "python3"
  },
  "language_info": {
   "codemirror_mode": {
    "name": "ipython",
    "version": 3
   },
   "file_extension": ".py",
   "mimetype": "text/x-python",
   "name": "python",
   "nbconvert_exporter": "python",
   "pygments_lexer": "ipython3",
   "version": "3.7.3"
  }
 },
 "nbformat": 4,
 "nbformat_minor": 4
}
