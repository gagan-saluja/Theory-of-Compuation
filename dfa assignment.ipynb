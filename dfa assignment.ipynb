{
 "cells": [
  {
   "cell_type": "markdown",
   "metadata": {},
   "source": [
    "DFA ASSIGNMENT"
   ]
  },
  {
   "cell_type": "markdown",
   "metadata": {},
   "source": [
    "Aim : DFA to create string stating with a"
   ]
  },
  {
   "cell_type": "code",
   "execution_count": 7,
   "metadata": {},
   "outputs": [
    {
     "name": "stdin",
     "output_type": "stream",
     "text": [
      "enter a string ababaaa\n"
     ]
    },
    {
     "name": "stdout",
     "output_type": "stream",
     "text": [
      "string accepted\n"
     ]
    }
   ],
   "source": [
    "dfa=dict()\n",
    "dfa[(0,'a')]=1\n",
    "dfa[(0,'b')]=2\n",
    "dfa[(1,'a')]=1\n",
    "dfa[(1,'b')]=1\n",
    "dfa[(2,'a')]=2\n",
    "dfa[(2,'b')]=2\n",
    "class String_a:\n",
    "    def __init__(self,dfa):\n",
    "        self.current_state=0\n",
    "        self.final_state=1\n",
    "    def moves(self,st):\n",
    "        for i in st:\n",
    "            self.current_state=dfa[(self.current_state,i)]\n",
    "        if(self.current_state==self.final_state):\n",
    "            print(\"string accepted\")\n",
    "        else:\n",
    "            print(\"string not accepted\")\n",
    "st=input(\"enter a string\")\n",
    "ob=String_a(dfa)\n",
    "ob.moves(st)"
   ]
  },
  {
   "cell_type": "markdown",
   "metadata": {},
   "source": [
    "Aim :Design a program for creating a machine that accepts three consecutive 1's"
   ]
  },
  {
   "cell_type": "code",
   "execution_count": 8,
   "metadata": {},
   "outputs": [
    {
     "name": "stdin",
     "output_type": "stream",
     "text": [
      "enter string 010111\n"
     ]
    },
    {
     "name": "stdout",
     "output_type": "stream",
     "text": [
      "string accepted\n"
     ]
    }
   ],
   "source": [
    "dfa=dict()\n",
    "dfa[('a',0)]='a'\n",
    "dfa[('a',1)]='b'\n",
    "dfa[('b',1)]='c'\n",
    "dfa[('b',0)]='a'\n",
    "dfa[('c',1)]='d'\n",
    "dfa[('c',0)]='a'\n",
    "dfa[('d',0)]='d'\n",
    "dfa[('d',1)]='d'\n",
    "class Consecutive_1:\n",
    "    def __init__(self,dfa):\n",
    "        self.current_state='a'\n",
    "        self.final_state='d'\n",
    "    def moves(self,string,sub_string):\n",
    "        if (string.find(sub_string) == -1):\n",
    "            print(\"String not accepted\")\n",
    "        else:\n",
    "            print(\"string accepted\")\n",
    "        \n",
    "string=input(\"enter string\")\n",
    "sub_string = '111'\n",
    "obj=Consecutive_1(dfa)\n",
    "obj.moves(string,sub_string)"
   ]
  },
  {
   "cell_type": "markdown",
   "metadata": {},
   "source": [
    "Aim :Design a program for creating a machine that ends with \"101\""
   ]
  },
  {
   "cell_type": "code",
   "execution_count": 9,
   "metadata": {},
   "outputs": [
    {
     "name": "stdin",
     "output_type": "stream",
     "text": [
      "enter string -  00101\n"
     ]
    },
    {
     "data": {
      "text/plain": [
       "True"
      ]
     },
     "execution_count": 9,
     "metadata": {},
     "output_type": "execute_result"
    }
   ],
   "source": [
    "dfa=dict()\n",
    "dfa[('a','0')]='a'\n",
    "dfa[('a','1')]='b'\n",
    "dfa[('b','0')]='c'\n",
    "dfa[('b','1')]='b'\n",
    "dfa[('c','0')]='a'\n",
    "dfa[('c','1')]='d'\n",
    "dfa[('d','0')]='d'\n",
    "dfa[('d','1')]='d'\n",
    "\n",
    "class One:\n",
    "    def __init__(self,dfa):\n",
    "        self.current_state='a'\n",
    "        self.final_state='d'\n",
    "        \n",
    "    def moves(self,string):\n",
    "        for i in string:\n",
    "            self.current_state=dfa[(self.current_state,i)]\n",
    "        if self.current_state in self.final_state:\n",
    "            return True\n",
    "        else:\n",
    "            return False\n",
    "        \n",
    "\n",
    "str=input(\"enter string - \")\n",
    "ob1=One(dfa)\n",
    "ob1.moves(str)"
   ]
  },
  {
   "cell_type": "markdown",
   "metadata": {},
   "source": [
    "Aim : Design a program for creating MOD 3 Machine."
   ]
  },
  {
   "cell_type": "code",
   "execution_count": 10,
   "metadata": {},
   "outputs": [
    {
     "name": "stdin",
     "output_type": "stream",
     "text": [
      "enter string 101010\n"
     ]
    },
    {
     "data": {
      "text/plain": [
       "True"
      ]
     },
     "execution_count": 10,
     "metadata": {},
     "output_type": "execute_result"
    }
   ],
   "source": [
    "dfa=dict()\n",
    "dfa[('a','0')]='a'\n",
    "dfa[('a','1')]='b'\n",
    "dfa[('b','0')]='c'\n",
    "dfa[('b','1')]='a'\n",
    "dfa[('c','0')]='b'\n",
    "dfa[('c','1')]='c'\n",
    "\n",
    "class Mod3:\n",
    "    def __init__(self,dfa):\n",
    "        self.current_state='a'\n",
    "        self.final_state='a'\n",
    "        \n",
    "    def moves(self,string):\n",
    "        for i in string:\n",
    "            self.current_state=dfa[(self.current_state,i)]\n",
    "        if self.current_state in self.final_state:\n",
    "            return True\n",
    "        else:\n",
    "            return False\n",
    "        \n",
    "\n",
    "str=input(\"enter string\")\n",
    "ob1=Mod3(dfa)\n",
    "ob1.moves(str)"
   ]
  },
  {
   "cell_type": "markdown",
   "metadata": {},
   "source": [
    "Aim : Design a machine accepting even no of 0's and 1's -"
   ]
  },
  {
   "cell_type": "code",
   "execution_count": null,
   "metadata": {},
   "outputs": [],
   "source": []
  }
 ],
 "metadata": {
  "kernelspec": {
   "display_name": "Python 3",
   "language": "python",
   "name": "python3"
  },
  "language_info": {
   "codemirror_mode": {
    "name": "ipython",
    "version": 3
   },
   "file_extension": ".py",
   "mimetype": "text/x-python",
   "name": "python",
   "nbconvert_exporter": "python",
   "pygments_lexer": "ipython3",
   "version": "3.7.3"
  }
 },
 "nbformat": 4,
 "nbformat_minor": 4
}
