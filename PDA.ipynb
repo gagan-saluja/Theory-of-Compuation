{
 "cells": [
  {
   "cell_type": "markdown",
   "metadata": {},
   "source": [
    "Construct a PDA that accepts string - a^nb^n"
   ]
  },
  {
   "cell_type": "code",
   "execution_count": 1,
   "metadata": {},
   "outputs": [
    {
     "name": "stdin",
     "output_type": "stream",
     "text": [
      "Enter String aabb\n"
     ]
    },
    {
     "name": "stdout",
     "output_type": "stream",
     "text": [
      "acceptable\n"
     ]
    }
   ],
   "source": [
    "class Stack:\n",
    "    def __init__(self):\n",
    "        self.l=[]\n",
    "    def push(self,item):\n",
    "        self.l.append(item)\n",
    "    def pop(self):\n",
    "        if len(self.l)!=0:\n",
    "            self.l.pop()\n",
    "        else:\n",
    "            return -1\n",
    "            \n",
    "    def isempty(self):\n",
    "        return self.l==[]\n",
    "    \n",
    "S = input(\"Enter String\")\n",
    "obj = Stack()\n",
    "for i in range(len(S)):\n",
    "    if S[i]=='a':\n",
    "        obj.push('a')\n",
    "    elif S[i]=='b':\n",
    "        result = obj.pop()\n",
    "        if result==-1:\n",
    "            break\n",
    "        \n",
    "if result==-1:\n",
    "    print(\"unacceptable\")\n",
    "elif obj.isempty():\n",
    "    print(\"acceptable\")           \n",
    "    \n"
   ]
  },
  {
   "cell_type": "code",
   "execution_count": 2,
   "metadata": {},
   "outputs": [
    {
     "name": "stdin",
     "output_type": "stream",
     "text": [
      "Enter String aaabbb\n"
     ]
    },
    {
     "name": "stdout",
     "output_type": "stream",
     "text": [
      "acceptable\n"
     ]
    }
   ],
   "source": [
    "class Stack:\n",
    "    def __init__(self):\n",
    "        self.l=[]\n",
    "    def push(self,item):\n",
    "        self.l.append(item)\n",
    "    def pop(self):\n",
    "        if len(self.l)!=0:\n",
    "            self.l.pop()\n",
    "        else:\n",
    "            return -1\n",
    "            \n",
    "    def isempty(self):\n",
    "        return self.l==[]\n",
    "    \n",
    "S = input(\"Enter String\")\n",
    "obj = Stack()\n",
    "for i in range(len(S)):\n",
    "    if S[i]=='a':\n",
    "        obj.push('a')\n",
    "    elif S[i]=='b':\n",
    "        result = obj.pop()\n",
    "        if result==-1:\n",
    "            break\n",
    "            \n",
    "if result==-1:\n",
    "    print(\"unacceptable\")\n",
    "elif obj.isempty():\n",
    "    print(\"acceptable\")           "
   ]
  },
  {
   "cell_type": "markdown",
   "metadata": {},
   "source": [
    "Contruct a PDA that accepts a string- a^nb^nc^2n"
   ]
  },
  {
   "cell_type": "code",
   "execution_count": 3,
   "metadata": {},
   "outputs": [
    {
     "name": "stdin",
     "output_type": "stream",
     "text": [
      "Enter String abcc\n"
     ]
    },
    {
     "name": "stdout",
     "output_type": "stream",
     "text": [
      "acceptable\n"
     ]
    }
   ],
   "source": [
    "class Stack:\n",
    "    def __init__(self):\n",
    "        self.l=[]\n",
    "    def push(self,item):\n",
    "        self.l.append(item)\n",
    "    def pop(self):\n",
    "        if len(self.l)!=0:\n",
    "            self.l.pop()\n",
    "        else:\n",
    "            return -1\n",
    "            \n",
    "    def isempty(self):\n",
    "        return self.l==[]\n",
    "    \n",
    "S = input(\"Enter String\")\n",
    "obj = Stack()\n",
    "for i in range(len(S)):\n",
    "    if S[i]=='a':\n",
    "        obj.push('a')\n",
    "    elif S[i]=='b':\n",
    "        obj.push('b')\n",
    "    elif S[i]=='c':\n",
    "        result = obj.pop()\n",
    "        if result==-1:\n",
    "            break\n",
    "        \n",
    "if result==-1:\n",
    "    print(\"unacceptable\")\n",
    "elif obj.isempty():\n",
    "    print(\"acceptable\")           \n",
    "else:\n",
    "    print(\"not acceptable\")"
   ]
  },
  {
   "cell_type": "code",
   "execution_count": 4,
   "metadata": {},
   "outputs": [
    {
     "name": "stdin",
     "output_type": "stream",
     "text": [
      "Enter String aabbcccc\n"
     ]
    },
    {
     "name": "stdout",
     "output_type": "stream",
     "text": [
      "acceptable\n"
     ]
    }
   ],
   "source": [
    "class Stack:\n",
    "    def __init__(self):\n",
    "        self.l=[]\n",
    "    def push(self,item):\n",
    "        self.l.append(item)\n",
    "    def pop(self):\n",
    "        if len(self.l)!=0:\n",
    "            self.l.pop()\n",
    "        else:\n",
    "            return -1\n",
    "            \n",
    "    def isempty(self):\n",
    "        return self.l==[]\n",
    "    \n",
    "S = input(\"Enter String\")\n",
    "obj = Stack()\n",
    "for i in range(len(S)):\n",
    "    if S[i]=='a':\n",
    "        obj.push('a')\n",
    "    elif S[i]=='b':\n",
    "        obj.push('b')\n",
    "    elif S[i]=='c':\n",
    "        result = obj.pop()\n",
    "        if result==-1:\n",
    "            break\n",
    "        \n",
    "if result==-1:\n",
    "    print(\"unacceptable\")\n",
    "elif obj.isempty():\n",
    "    print(\"acceptable\")           \n",
    "else:\n",
    "    print(\"not acceptable\")"
   ]
  },
  {
   "cell_type": "markdown",
   "metadata": {},
   "source": [
    "Construct a PDA that checks the balancing of different parenthesises"
   ]
  },
  {
   "cell_type": "code",
   "execution_count": 5,
   "metadata": {},
   "outputs": [
    {
     "name": "stdin",
     "output_type": "stream",
     "text": [
      "Enter String {[(}])\n"
     ]
    },
    {
     "name": "stdout",
     "output_type": "stream",
     "text": [
      "acceptable\n"
     ]
    }
   ],
   "source": [
    "class Stack:\n",
    "    def __init__(self):\n",
    "        self.l=[]\n",
    "    def push(self,item):\n",
    "        self.l.append(item)\n",
    "    def pop(self):\n",
    "        if len(self.l)!=0:\n",
    "            self.l.pop()\n",
    "        else:\n",
    "            return -1\n",
    "            \n",
    "    def isempty(self):\n",
    "        return self.l==[]\n",
    "    \n",
    "S = input(\"Enter String\")\n",
    "obj = Stack()\n",
    "for i in range(len(S)):\n",
    "    if S[i]=='[':\n",
    "        obj.push('[')\n",
    "    elif S[i]=='{':\n",
    "        obj.push('{')\n",
    "    elif S[i]=='(':\n",
    "        obj.push('(')\n",
    "    elif S[i]==']':\n",
    "        result = obj.pop()\n",
    "    elif S[i]=='}':\n",
    "        result = obj.pop()\n",
    "    elif S[i]==')':\n",
    "        result = obj.pop()\n",
    "        if result==-1:\n",
    "            break\n",
    "        \n",
    "        \n",
    "if result==-1:\n",
    "    print(\"unacceptable\")\n",
    "elif obj.isempty():\n",
    "    print(\"acceptable\")           \n",
    "else:\n",
    "    print(\"not acceptable\")"
   ]
  },
  {
   "cell_type": "code",
   "execution_count": null,
   "metadata": {},
   "outputs": [],
   "source": []
  }
 ],
 "metadata": {
  "kernelspec": {
   "display_name": "Python 3",
   "language": "python",
   "name": "python3"
  },
  "language_info": {
   "codemirror_mode": {
    "name": "ipython",
    "version": 3
   },
   "file_extension": ".py",
   "mimetype": "text/x-python",
   "name": "python",
   "nbconvert_exporter": "python",
   "pygments_lexer": "ipython3",
   "version": "3.7.3"
  }
 },
 "nbformat": 4,
 "nbformat_minor": 4
}
