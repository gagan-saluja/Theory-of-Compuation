{
 "cells": [
  {
   "cell_type": "markdown",
   "metadata": {},
   "source": [
    "Aim : Queue with Python"
   ]
  },
  {
   "cell_type": "code",
   "execution_count": null,
   "metadata": {},
   "outputs": [
    {
     "name": "stdin",
     "output_type": "stream",
     "text": [
      "enter choice : 0 - exit, 1 - Enquueue, 2 - Dequeue, 3 - size 1\n",
      "Enter Element  6\n"
     ]
    },
    {
     "name": "stdout",
     "output_type": "stream",
     "text": [
      "[6]\n"
     ]
    },
    {
     "name": "stdin",
     "output_type": "stream",
     "text": [
      "Enter choice : 0 - exit, 1 - push, 2 - PoP 1\n",
      "Enter Element  5\n"
     ]
    },
    {
     "name": "stdout",
     "output_type": "stream",
     "text": [
      "[6, 5]\n"
     ]
    },
    {
     "name": "stdin",
     "output_type": "stream",
     "text": [
      "Enter choice : 0 - exit, 1 - push, 2 - PoP 1\n",
      "Enter Element  4\n"
     ]
    },
    {
     "name": "stdout",
     "output_type": "stream",
     "text": [
      "[6, 5, 4]\n"
     ]
    },
    {
     "name": "stdin",
     "output_type": "stream",
     "text": [
      "Enter choice : 0 - exit, 1 - push, 2 - PoP 1\n",
      "Enter Element  3\n"
     ]
    },
    {
     "name": "stdout",
     "output_type": "stream",
     "text": [
      "[6, 5, 4, 3]\n"
     ]
    },
    {
     "name": "stdin",
     "output_type": "stream",
     "text": [
      "Enter choice : 0 - exit, 1 - push, 2 - PoP 1\n"
     ]
    }
   ],
   "source": [
    " class Queue:\n",
    "    def __init__(self):\n",
    "        self.l=[]\n",
    "    def enque(self,item):\n",
    "        if len(self.l)>3:\n",
    "            print(\"queue is full\") \n",
    "        else:\n",
    "            self.l.append(item)\n",
    "            print(self.l)\n",
    "    def delete(self):\n",
    "        if len(self.l)==0:\n",
    "            print(\"queue is empty\")\n",
    "        else:\n",
    "            self.l.reverse()\n",
    "            print (self.l)\n",
    "            print(self.l.pop())\n",
    "            self.l.reverse()\n",
    "            print(self.l)\n",
    "def size(self):\n",
    "    len(self.l)\n",
    "    \n",
    "\n",
    "q= Queue()\n",
    "choice=int(input(\"enter choice : 0 - exit, 1 - Enquueue, 2 - Dequeue, 3 - size\"))\n",
    "while choice!=0:\n",
    "    if choice==1:\n",
    "        item = int(input(\"Enter Element \"))\n",
    "        q.enque(item)\n",
    "    elif choice==3:\n",
    "        q.size()\n",
    "    else:\n",
    "        q.delete()\n",
    "    choice=int(input(\"Enter choice : 0 - exit, 1 - push, 2 - PoP\"))"
   ]
  },
  {
   "cell_type": "markdown",
   "metadata": {},
   "source": [
    "Aim: Python program for Dequeue   "
   ]
  },
  {
   "cell_type": "code",
   "execution_count": null,
   "metadata": {},
   "outputs": [
    {
     "name": "stdin",
     "output_type": "stream",
     "text": [
      "enter choice : 0 -exit, 1 -r_enqueue ,2 -f_enqueue, 3 -f_delete,4 -r_delete,5 -size 1\n",
      "Enter element  4\n"
     ]
    },
    {
     "name": "stdout",
     "output_type": "stream",
     "text": [
      "[4]\n"
     ]
    },
    {
     "name": "stdin",
     "output_type": "stream",
     "text": [
      "enter choice : 0 -exit, 1 -r_enqueue ,2 -f_enqueue, 3 -f_delete,4 -r_delete,5 -size 2\n",
      "Enter element 6\n"
     ]
    },
    {
     "name": "stdout",
     "output_type": "stream",
     "text": [
      "[4, 6]\n"
     ]
    },
    {
     "name": "stdin",
     "output_type": "stream",
     "text": [
      "enter choice : 0 -exit, 1 -r_enqueue ,2 -f_enqueue, 3 -f_delete,4 -r_delete,5 -size 2\n",
      "Enter element 8\n"
     ]
    },
    {
     "name": "stdout",
     "output_type": "stream",
     "text": [
      "[4, 6, 8]\n"
     ]
    },
    {
     "name": "stdin",
     "output_type": "stream",
     "text": [
      "enter choice : 0 -exit, 1 -r_enqueue ,2 -f_enqueue, 3 -f_delete,4 -r_delete,5 -size 2\n",
      "Enter element 2\n"
     ]
    },
    {
     "name": "stdout",
     "output_type": "stream",
     "text": [
      "dequeue is full\n"
     ]
    },
    {
     "name": "stdin",
     "output_type": "stream",
     "text": [
      "enter choice : 0 -exit, 1 -r_enqueue ,2 -f_enqueue, 3 -f_delete,4 -r_delete,5 -size 5\n",
      "enter choice : 0 -exit, 1 -r_enqueue ,2 -f_enqueue, 3 -f_delete,4 -r_delete,5 -size 3\n"
     ]
    },
    {
     "name": "stdout",
     "output_type": "stream",
     "text": [
      "8\n",
      "[4, 6]\n"
     ]
    },
    {
     "name": "stdin",
     "output_type": "stream",
     "text": [
      "enter choice : 0 -exit, 1 -r_enqueue ,2 -f_enqueue, 3 -f_delete,4 -r_delete,5 -size 4\n"
     ]
    },
    {
     "name": "stdout",
     "output_type": "stream",
     "text": [
      "4\n",
      "[6]\n"
     ]
    },
    {
     "name": "stdin",
     "output_type": "stream",
     "text": [
      "enter choice : 0 -exit, 1 -r_enqueue ,2 -f_enqueue, 3 -f_delete,4 -r_delete,5 -size 2\n",
      "Enter element 5\n"
     ]
    },
    {
     "name": "stdout",
     "output_type": "stream",
     "text": [
      "[6, 5]\n"
     ]
    }
   ],
   "source": [
    "class deQueue:\n",
    "    def __init__(self):\n",
    "        self.dequeue=[]\n",
    "    def r_enqueue(self,item):\n",
    "        if len(self.dequeue)>2:\n",
    "            print(\"dequeue is full\") \n",
    "        else:\n",
    "            self.dequeue.insert(0,item)\n",
    "            print(self.dequeue)\n",
    "    def f_enqueue(self,item):\n",
    "        if len(self.dequeue)>2:\n",
    "            print(\"dequeue is full\") \n",
    "        else:\n",
    "            self.dequeue.append(item)\n",
    "            print(self.dequeue)\n",
    "            \n",
    "    def r_delete(self):\n",
    "        if len(self.dequeue)==0:\n",
    "            print(\"queue is empty\")\n",
    "        else:\n",
    "            self.dequeue.reverse()\n",
    "            print(self.dequeue.pop())\n",
    "            self.dequeue.reverse()\n",
    "            print(self.dequeue)\n",
    "            \n",
    "    def f_delete(self):\n",
    "        if len(self.dequeue)==0:\n",
    "            print(\"queue is empty\")\n",
    "        else:\n",
    "            print(self.dequeue.pop())\n",
    "            print(self.dequeue)        \n",
    "\n",
    "    def size(self):\n",
    "        len(self.dequeue)\n",
    "    \n",
    "\n",
    "q = deQueue()\n",
    "choice=int(input(\"enter choice : 0 -exit, 1 -r_enqueue ,2 -f_enqueue, 3 -f_delete,4 -r_delete,5 -size\"))\n",
    "while choice!=0:\n",
    "    if choice==1:\n",
    "        item = int(input(\"Enter element \"))\n",
    "        q.r_enqueue(item)\n",
    "    elif choice==2:\n",
    "        item = int(input(\"Enter element\"))\n",
    "        q.f_enqueue(item)\n",
    "    elif choice==3:\n",
    "        q.f_delete()\n",
    "    elif choice==4:\n",
    "        q.r_delete()\n",
    "    else :\n",
    "        q.size()\n",
    "    choice=int(input(\"enter choice : 0 -exit, 1 -r_enqueue ,2 -f_enqueue, 3 -f_delete,4 -r_delete,5 -size\"))\n"
   ]
  },
  {
   "cell_type": "code",
   "execution_count": null,
   "metadata": {},
   "outputs": [],
   "source": []
  }
 ],
 "metadata": {
  "kernelspec": {
   "display_name": "Python 3",
   "language": "python",
   "name": "python3"
  },
  "language_info": {
   "codemirror_mode": {
    "name": "ipython",
    "version": 3
   },
   "file_extension": ".py",
   "mimetype": "text/x-python",
   "name": "python",
   "nbconvert_exporter": "python",
   "pygments_lexer": "ipython3",
   "version": "3.7.3"
  }
 },
 "nbformat": 4,
 "nbformat_minor": 4
}
