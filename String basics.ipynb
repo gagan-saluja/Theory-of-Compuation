{
 "cells": [
  {
   "cell_type": "markdown",
   "metadata": {},
   "source": [
    "Aim : Write a Program in python to count the number of words from a string"
   ]
  },
  {
   "cell_type": "code",
   "execution_count": 1,
   "metadata": {},
   "outputs": [
    {
     "name": "stdout",
     "output_type": "stream",
     "text": [
      "Enter the string:I love chocolate\n",
      "The number of words in the string is : 3\n"
     ]
    }
   ],
   "source": [
    "Sentence = input(\"Enter the string:\")\n",
    "list = Sentence.split(\" \")\n",
    "count = len(list)\n",
    "print(\"The number of words in the string is :\",count)"
   ]
  },
  {
   "cell_type": "code",
   "execution_count": null,
   "metadata": {},
   "outputs": [],
   "source": []
  },
  {
   "cell_type": "markdown",
   "metadata": {},
   "source": [
    "Aim : Write a Program in python to count the number of words present in a file"
   ]
  },
  {
   "cell_type": "code",
   "execution_count": 6,
   "metadata": {},
   "outputs": [
    {
     "name": "stdout",
     "output_type": "stream",
     "text": [
      "Enter the file name:demo.txt\n",
      "total word count is : 169\n"
     ]
    }
   ],
   "source": [
    "fname = input(\"Enter the file name:\")\n",
    "word_count = 0\n",
    "f = open(fname,'r')\n",
    "for line in f:\n",
    "    l = line.split()\n",
    "    word_count = word_count + len(l)\n",
    "print(\"total word count is :\",word_count)    "
   ]
  },
  {
   "cell_type": "code",
   "execution_count": null,
   "metadata": {},
   "outputs": [],
   "source": []
  },
  {
   "cell_type": "markdown",
   "metadata": {},
   "source": [
    "Aim : Write a Program in python to implement Stack data-structure "
   ]
  },
  {
   "cell_type": "code",
   "execution_count": 9,
   "metadata": {},
   "outputs": [
    {
     "name": "stdout",
     "output_type": "stream",
     "text": [
      "2\n",
      "3\n",
      "False\n",
      "True\n"
     ]
    }
   ],
   "source": [
    "class Stack:\n",
    "    def __init__(self):\n",
    "        self.items=[]\n",
    "    def push(self,item):\n",
    "        self.items.append(item)\n",
    "    def pop(self):\n",
    "        self.items.pop()\n",
    "    def isempty(self):\n",
    "        return self.items==[]\n",
    "    def size(self):\n",
    "        return len(self.items)    \n",
    "obj=Stack()\n",
    "obj.push('a')\n",
    "obj.push('f')\n",
    "print(obj.size())\n",
    "obj.pop()\n",
    "obj.push('2')\n",
    "obj.push('6')\n",
    "print(obj.size())\n",
    "print(obj.isempty())\n",
    "obj.pop()\n",
    "obj.pop()\n",
    "obj.pop()\n",
    "print(obj.isempty())"
   ]
  },
  {
   "cell_type": "code",
   "execution_count": null,
   "metadata": {},
   "outputs": [],
   "source": []
  },
  {
   "cell_type": "markdown",
   "metadata": {},
   "source": [
    "Aim : Write a Program in python to showing the use of various string funtion \n"
   ]
  },
  {
   "cell_type": "code",
   "execution_count": 19,
   "metadata": {},
   "outputs": [
    {
     "name": "stdout",
     "output_type": "stream",
     "text": [
      "enter the stringi love my country\n",
      "Capitalization:I love my country\n",
      "Replaced text is :i love my chocolate\n",
      "['i', 'love', 'my', 'country']\n",
      "Uppercase of given string is :I LOVE MY COUNTRY\n",
      "Lowercase of given string is :i love my country\n"
     ]
    }
   ],
   "source": [
    "Sentence = input(\"enter the string\")\n",
    "capital = Sentence.capitalize()\n",
    "print(\"Capitalization:\" + capital)\n",
    "\n",
    "text = Sentence.replace(\"country\",\"chocolate\")\n",
    "print(\"Replaced text is :\" + text)\n",
    "\n",
    "split = Sentence.rsplit(\" \")\n",
    "print(split)\n",
    "\n",
    "uppercase = Sentence.upper()\n",
    "print(\"Uppercase of given string is :\" + uppercase)\n",
    "\n",
    "lowercase = Sentence.lower()\n",
    "print(\"Lowercase of given string is :\" + lowercase)\n",
    "\n"
   ]
  },
  {
   "cell_type": "code",
   "execution_count": null,
   "metadata": {},
   "outputs": [],
   "source": []
  },
  {
   "cell_type": "markdown",
   "metadata": {},
   "source": [
    "Aim : Write a Program in python to implement the application of Stack data-structure"
   ]
  },
  {
   "cell_type": "code",
   "execution_count": 3,
   "metadata": {},
   "outputs": [
    {
     "name": "stdout",
     "output_type": "stream",
     "text": [
      "enter the string(())\n",
      "balanced String\n"
     ]
    }
   ],
   "source": [
    "class Stack:\n",
    "    def __init__(self):\n",
    "        self.l=[]\n",
    "    def push(self,item):\n",
    "        self.l.append(item)\n",
    "    def pop(self):\n",
    "        if len(self.l)!=0:\n",
    "            self.l.pop()\n",
    "        else:\n",
    "            return -1\n",
    "            \n",
    "    def isempty(self):\n",
    "        return self.l==[]\n",
    "    \n",
    "S = input(\"enter the string\")\n",
    "obj = Stack()\n",
    "for i in range(len(S)):\n",
    "    if S[i]=='(':\n",
    "        obj.push('(')\n",
    "    elif S[i]==')':\n",
    "        result = obj.pop()\n",
    "        if result==-1:\n",
    "            break\n",
    "        \n",
    "        \n",
    "if result==-1:\n",
    "    print(\"UnBalanced String\")\n",
    "elif obj.isempty():\n",
    "    print(\"balanced String\")           \n",
    "    "
   ]
  },
  {
   "cell_type": "code",
   "execution_count": null,
   "metadata": {},
   "outputs": [],
   "source": []
  }
 ],
 "metadata": {
  "kernelspec": {
   "display_name": "Python 3",
   "language": "python",
   "name": "python3"
  },
  "language_info": {
   "codemirror_mode": {
    "name": "ipython",
    "version": 3
   },
   "file_extension": ".py",
   "mimetype": "text/x-python",
   "name": "python",
   "nbconvert_exporter": "python",
   "pygments_lexer": "ipython3",
   "version": "3.7.1"
  }
 },
 "nbformat": 4,
 "nbformat_minor": 2
}
